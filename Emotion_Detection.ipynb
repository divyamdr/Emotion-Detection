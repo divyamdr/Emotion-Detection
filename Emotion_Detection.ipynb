{
 "cells": [
  {
   "cell_type": "code",
   "execution_count": null,
   "metadata": {},
   "outputs": [],
   "source": [
    "import numpy as np\n",
    "\n",
    "with open(\"fer2013.csv\") as f:\n",
    "    content = f.readlines()\n",
    " \n",
    "    lines = np.array(content)\n",
    " \n",
    "    \n",
    "    num_of_instances = lines.size\n",
    "print(\"number of instances: \",num_of_instances)\n"
   ]
  },
  {
   "cell_type": "code",
   "execution_count": null,
   "metadata": {},
   "outputs": [],
   "source": [
    "import matplotlib.pyplot as plt\n",
    "import cv2\n",
    "import keras\n",
    "from PIL import Image\n",
    "e1=1\n",
    "e2=1\n",
    "e3=1\n",
    "e4=1\n",
    "e5=1\n",
    "e6=1\n",
    "e7=1\n",
    "for i in range(1,num_of_instances):\n",
    "    emotion, img, usage = lines[i].split(\",\")\n",
    "    val = img.split(\" \")\n",
    "    img1=np.reshape(val, (48, 48)) \n",
    "    img2 = img1.astype(np.float)\n",
    "    if int(emotion)==0:\n",
    "        cv2.imwrite(r'C:\\Users\\Phani Rohitha Kaza\\training_set\\angry\\img'+str(e1)+'.png',img2)\n",
    "        e1+=1\n",
    "    elif int(emotion)==1:\n",
    "        cv2.imwrite(r'C:\\Users\\Phani Rohitha Kaza\\training_set\\disgust\\img'+str(e2)+'.png',img2)\n",
    "        e2+=1\n",
    "    elif int(emotion)==2:\n",
    "        cv2.imwrite(r'C:\\Users\\Phani Rohitha Kaza\\training_set\\fear\\img'+str(e3)+'.png',img2)\n",
    "        e3+=1\n",
    "    elif int(emotion)==3:\n",
    "        cv2.imwrite(r'C:\\Users\\Phani Rohitha Kaza\\training_set\\happy\\img'+str(e4)+'.png',img2)\n",
    "        e4+=1\n",
    "    elif int(emotion)==4:\n",
    "        cv2.imwrite(r'C:\\Users\\Phani Rohitha Kaza\\training_set\\sad\\img'+str(e5)+'.png',img2)\n",
    "        e5+=1\n",
    "    elif int(emotion)==5:\n",
    "        cv2.imwrite(r'C:\\Users\\Phani Rohitha Kaza\\training_set\\surprise\\img'+str(e6)+'.png',img2)\n",
    "        e6+=1\n",
    "    elif int(emotion)==6:\n",
    "        cv2.imwrite(r'C:\\Users\\Phani Rohitha Kaza\\training_set\\neutral\\img'+str(e7)+'.png',img2)\n",
    "        e7+=1\n",
    "  \n",
    "        "
   ]
  },
  {
   "cell_type": "code",
   "execution_count": 1,
   "metadata": {},
   "outputs": [],
   "source": [
    "import numpy as np\n",
    "import cv2\n",
    "\n",
    "image = cv2.imread('img1.png')\n",
    "height = np.size(image, 0)\n",
    "width = np.size(image, 1)"
   ]
  },
  {
   "cell_type": "code",
   "execution_count": 2,
   "metadata": {},
   "outputs": [
    {
     "data": {
      "text/plain": [
       "48"
      ]
     },
     "execution_count": 2,
     "metadata": {},
     "output_type": "execute_result"
    }
   ],
   "source": [
    "height\n"
   ]
  },
  {
   "cell_type": "code",
   "execution_count": 3,
   "metadata": {},
   "outputs": [
    {
     "data": {
      "text/plain": [
       "48"
      ]
     },
     "execution_count": 3,
     "metadata": {},
     "output_type": "execute_result"
    }
   ],
   "source": [
    "width"
   ]
  },
  {
   "cell_type": "code",
   "execution_count": null,
   "metadata": {},
   "outputs": [],
   "source": []
  }
 ],
 "metadata": {
  "kernelspec": {
   "display_name": "Python 3",
   "language": "python",
   "name": "python3"
  },
  "language_info": {
   "codemirror_mode": {
    "name": "ipython",
    "version": 3
   },
   "file_extension": ".py",
   "mimetype": "text/x-python",
   "name": "python",
   "nbconvert_exporter": "python",
   "pygments_lexer": "ipython3",
   "version": "3.6.6"
  }
 },
 "nbformat": 4,
 "nbformat_minor": 2
}
